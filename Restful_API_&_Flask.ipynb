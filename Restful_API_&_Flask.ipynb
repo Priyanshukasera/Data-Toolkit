{
  "nbformat": 4,
  "nbformat_minor": 0,
  "metadata": {
    "colab": {
      "provenance": []
    },
    "kernelspec": {
      "name": "python3",
      "display_name": "Python 3"
    },
    "language_info": {
      "name": "python"
    }
  },
  "cells": [
    {
      "cell_type": "code",
      "execution_count": null,
      "metadata": {
        "id": "zf1X6D0t3c1w"
      },
      "outputs": [],
      "source": []
    },
    {
      "cell_type": "markdown",
      "source": [
        "1 A RESTful API, also known as a REST API, is an Application Programming Interface (API) that adheres to the architectural style principles of Representational State Transfer (REST). REST is a set of guidelines for building web services that are lightweight, scalable, and maintainable.\n",
        "\n",
        "2 An API specification is a formal, machine-readable document that serves as a blueprint for an Application Programming Interface (API). It details the API's structure, behavior, and the rules for interacting with it. Rather than being a set of instructions for end-users, an API specification is primarily intended for developers who are building or integrating with the API.\n",
        "\n",
        "3 Flask is a micro web framework written in Python. It is designed to be lightweight and flexible, providing the essential tools for building web applications and leaving many choices about features like database integration or ORMs (Object Relational Mappers) to the developer.\n",
        "Flask is popular for building APIs due to several key reasons:\n",
        "- Simplicity and Minimalism\n",
        "- Flexibility and Extensibility\n",
        "- Large Community and Ecosystem\n",
        "\n",
        "4 Routing in Flask is the mechanism that maps specific URL patterns to Python functions, known as view functions, within a Flask application. When a user accesses a particular URL in their web browser, Flask's routing system determines which function should be executed to handle that request and generate a response.\n",
        "\n",
        "5        from flask import Flask\n",
        "\n",
        "        app = Flask(__name__)\n",
        "\n",
        "        @app.route('/')\n",
        "        def hello_world():\n",
        "            return 'Hello, Flask!'\n",
        "\n",
        "        if __name__ == '__main__':\n",
        "            app.run(debug=True)\n",
        "\n",
        "6 HTTP methods, also known as HTTP verbs, define the type of action a client wants to perform on a resource within a RESTful API. These methods directly map to the standard CRUD (Create, Read, Update, Delete) operations.\n",
        "\n",
        "7 The app.route() decorator in Flask serves the purpose of defining URL routing for a web application. It maps a specific URL path to a Python function that will be executed when a client requests that URL\n",
        "\n",
        "8 The HTTP GET and POST methods are two fundamental ways a client interacts with a server, primarily distinguished by their intended purpose and how they handle data transmission.\n",
        "\n",
        "9     from flask import Flask, abort, jsonify\n",
        "\n",
        "    app = Flask(__name__)\n",
        "\n",
        "    @app.route('/users/<int:user_id>')\n",
        "    def get_user(user_id):\n",
        "        if user_id not in [1, 2, 3]:  # Example: user not found\n",
        "            abort(404, description=\"User not found\")\n",
        "        return jsonify({\"user_id\": user_id, \"name\": \"Test User\"})\n",
        "\n",
        "    if __name__ == '__main__':\n",
        "        app.run(debug=True)\n",
        "\n",
        "10 Connecting Flask to a SQL database typically involves using an Object-Relational Mapper (ORM) like Flask-SQLAlchemy, which simplifies database interactions.\n",
        "\n",
        "11 Flask SQLAlchemy enables developers to perform tasks like defining models, creating queries, and easily managing database migrations and supports multiple database management systems such as SQLite, MySQL, and PostgreSQL. Let's learn how to set up and use Flask SQLAlchemy with graspable examples.\n",
        "\n",
        "12 Flask Blueprints are a feature within the Flask web framework that allow for the organization of application code into modular, reusable, and self-contained components. They act as mini-applications that can encapsulate functionality such as routes, views, templates, and static files, all related to a specific part of a larger application.\n",
        "\n",
        "13 The purpose of Flask's request object is to provide access to the incoming HTTP request data and metadata within your Flask application's view functions. When a client sends an HTTP request to your Flask server, Flask automatically creates a request object that encapsulates all the information related to that specific request.\n",
        "\n",
        "14 Creating a RESTful API endpoint using Flask involves defining routes that correspond to specific HTTP methods (GET, POST, PUT, DELETE) and handling requests and responses within those routes.\n",
        "\n",
        "15 Flask's jsonify() function serves the purpose of simplifying the creation of JSON responses in web applications. Specifically, it performs the following key actions:\n",
        "Serialization to JSON:\n",
        "It takes Python objects (typically dictionaries or lists) and serializes them into a JSON-formatted string. This is essential for sending structured data to client-side applications (e.g., JavaScript in a web browser, mobile apps) that expect data in JSON format.\n",
        "\n",
        "16 The url_for() function in Flask is a utility used to dynamically build URLs for various resources within a Flask application. Its primary purpose is to avoid hardcoding URLs, which makes the application more maintainable and adaptable to changes in URL structures.\n",
        "\n",
        "17 Flask automatically creates a static endpoint to serve static files (like HTML templates, CSS stylesheets, JS files, and images). For example, to serve an image, copy the image into the \"static\" folder of the Flask project.\n",
        "\n",
        "18 An API specification is a formal, machine-readable document that describes the structure and behavior of an API. It acts as a blueprint or contract for the API, detailing its endpoints, expected inputs (parameters, request bodies), possible outputs (response structures, status codes), security mechanisms, and data models.\n",
        "\n",
        "19 Flask API includes a set of named constants that you can use to make more code more obvious and readable. The full set of HTTP status codes included in the status module is listed below. The module also includes a set of helper functions for testing if a status code is in a given range.\n",
        "\n",
        "20 To handle specific requests, we need to add a route and specify which methods are accepted on that route. If we want to accept multiple methods, we have to check for the method that's been used and run the corresponding block of code.\n",
        "\n",
        "21 Securing a Flask API involves implementing various measures to protect against common vulnerabilities and unauthorized access. Key aspects include:\n",
        "- Authentication and Authorization\n",
        "- Data Security\n",
        "- Input Validation and Sanitization\n",
        "- Vulnerability Protection\n",
        "\n",
        "22 The significance of the Flask-RESTful extension is that it simplifies and structures the development of RESTful APIs within Flask, providing a cleaner, object-oriented approach to API development. It introduces a Resource class to manage HTTP methods, handles request parsing and JSON responses automatically, and encourages best practices for building scalable and maintainable APIs with less boilerplate code.\n",
        "\n",
        "23 Flask's session object provides a server-side mechanism to store user-specific data across multiple requests, enabling features like user authentication and shopping carts by maintaining state between user interactions. It acts like a Python dictionary, allowing you to add and retrieve key-value pairs, which are then encoded into a cryptographically signed cookie sent to the user's browser and returned on subsequent requests.\n"
      ],
      "metadata": {
        "id": "c4Lho6aN3mIj"
      }
    },
    {
      "cell_type": "code",
      "source": [
        "# 1\n",
        "from flask import Flask\n",
        "\n",
        "# Initialize the Flask app\n",
        "app = Flask(__name__)\n",
        "\n",
        "# Define a route\n",
        "@app.route(\"/\")\n",
        "def home():\n",
        "    return \"Hello, Flask! 🚀\"\n",
        "\n",
        "# Run the app\n",
        "if __name__ == \"__main__\":\n",
        "    app.run(debug=True)\n"
      ],
      "metadata": {
        "colab": {
          "base_uri": "https://localhost:8080/"
        },
        "id": "BkqiHA657OTT",
        "outputId": "afd49f43-dfba-4762-939f-757cf44d47a2"
      },
      "execution_count": 1,
      "outputs": [
        {
          "metadata": {
            "tags": null
          },
          "name": "stdout",
          "output_type": "stream",
          "text": [
            " * Serving Flask app '__main__'\n",
            " * Debug mode: on\n"
          ]
        },
        {
          "metadata": {
            "tags": null
          },
          "name": "stderr",
          "output_type": "stream",
          "text": [
            "INFO:werkzeug:\u001b[31m\u001b[1mWARNING: This is a development server. Do not use it in a production deployment. Use a production WSGI server instead.\u001b[0m\n",
            " * Running on http://127.0.0.1:5000\n",
            "INFO:werkzeug:\u001b[33mPress CTRL+C to quit\u001b[0m\n",
            "INFO:werkzeug: * Restarting with watchdog (inotify)\n"
          ]
        }
      ]
    },
    {
      "cell_type": "code",
      "source": [
        "# 2\n",
        "from flask import Flask, render_template\n",
        "\n",
        "app = Flask(__name__)\n",
        "\n",
        "@app.route(\"/\")\n",
        "def home():\n",
        "    return render_template(\"index.html\")\n",
        "\n",
        "if __name__ == \"__main__\":\n",
        "    app.run(debug=True)\n"
      ],
      "metadata": {
        "id": "1dUNLfsy7Zpa",
        "colab": {
          "base_uri": "https://localhost:8080/"
        },
        "outputId": "fedaa098-1539-4f4f-b87b-3233f9f6415f"
      },
      "execution_count": 2,
      "outputs": [
        {
          "metadata": {
            "tags": null
          },
          "name": "stdout",
          "output_type": "stream",
          "text": [
            " * Serving Flask app '__main__'\n",
            " * Debug mode: on\n"
          ]
        },
        {
          "metadata": {
            "tags": null
          },
          "name": "stderr",
          "output_type": "stream",
          "text": [
            "INFO:werkzeug:\u001b[31m\u001b[1mWARNING: This is a development server. Do not use it in a production deployment. Use a production WSGI server instead.\u001b[0m\n",
            " * Running on http://127.0.0.1:5000\n",
            "INFO:werkzeug:\u001b[33mPress CTRL+C to quit\u001b[0m\n",
            "INFO:werkzeug: * Restarting with watchdog (inotify)\n"
          ]
        }
      ]
    },
    {
      "cell_type": "code",
      "source": [
        "# 3\n",
        "@app.route(\"/login\", methods=[\"GET\", \"POST\"])\n",
        "def login():\n",
        "    if request.method == \"POST\":\n",
        "        username = request.form.get(\"username\")\n",
        "        return f\"Welcome, {username}!\"\n",
        "    else:\n",
        "        return \"Login Page (use POST to submit data)\"\n"
      ],
      "metadata": {
        "id": "Xu8ZLbwf7ydw"
      },
      "execution_count": 3,
      "outputs": []
    },
    {
      "cell_type": "code",
      "source": [
        "#4\n",
        "from flask import Flask, render_template\n",
        "\n",
        "app = Flask(__name__)\n",
        "\n",
        "@app.route(\"/\")\n",
        "def home():\n",
        "    return render_template(\"index.html\", name=\"Priyanshu\")\n",
        "\n",
        "@app.route(\"/about\")\n",
        "def about():\n",
        "    return render_template(\"about.html\")\n",
        "\n",
        "if __name__ == \"__main__\":\n",
        "    app.run(debug=True)\n"
      ],
      "metadata": {
        "id": "NEsh-xk58N4N",
        "colab": {
          "base_uri": "https://localhost:8080/"
        },
        "outputId": "b320281a-8a5e-4065-fa84-7826e1793618"
      },
      "execution_count": null,
      "outputs": [
        {
          "metadata": {
            "tags": null
          },
          "name": "stdout",
          "output_type": "stream",
          "text": [
            " * Serving Flask app '__main__'\n",
            " * Debug mode: on\n"
          ]
        },
        {
          "metadata": {
            "tags": null
          },
          "name": "stderr",
          "output_type": "stream",
          "text": [
            "INFO:werkzeug:\u001b[31m\u001b[1mWARNING: This is a development server. Do not use it in a production deployment. Use a production WSGI server instead.\u001b[0m\n",
            " * Running on http://127.0.0.1:5000\n",
            "INFO:werkzeug:\u001b[33mPress CTRL+C to quit\u001b[0m\n",
            "INFO:werkzeug: * Restarting with watchdog (inotify)\n"
          ]
        }
      ]
    },
    {
      "cell_type": "code",
      "source": [
        "#5\n",
        "from flask import Flask, url_for, redirect\n",
        "\n",
        "app = Flask(__name__)\n",
        "\n",
        "@app.route(\"/\")\n",
        "def home():\n",
        "    return \"Home Page\"\n",
        "\n",
        "@app.route(\"/about\")\n",
        "def about():\n",
        "    return \"About Page\"\n",
        "\n",
        "@app.route(\"/go-to-about\")\n",
        "def go_to_about():\n",
        "    # Generate URL for the `about` route\n",
        "    return redirect(url_for(\"about\"))\n",
        "\n",
        "if __name__ == \"__main__\":\n",
        "    app.run(debug=True)\n"
      ],
      "metadata": {
        "id": "T0NfQe9D9AY2"
      },
      "execution_count": null,
      "outputs": []
    },
    {
      "cell_type": "code",
      "source": [
        "#6\n",
        "@app.route(\"/\")\n",
        "def index():\n",
        "    return render_template_string(form_html)\n",
        "\n",
        "@app.route(\"/submit\", methods=[\"POST\"])\n",
        "def submit():\n",
        "    username = request.form.get(\"username\")\n",
        "    return f\"<h2>Hello, {username}! 👋</h2>\"\n",
        "\n",
        "app.run()"
      ],
      "metadata": {
        "id": "zUa1nDId9XQV"
      },
      "execution_count": null,
      "outputs": []
    },
    {
      "cell_type": "code",
      "source": [
        "#7\n",
        "@app.route(\"/\", methods=[\"GET\", \"POST\"])\n",
        "def home():\n",
        "    if request.method == \"POST\":\n",
        "        username = request.form.get(\"username\")\n",
        "        age = request.form.get(\"age\")\n",
        "\n",
        "        # Validation checks\n",
        "        if not username:\n",
        "            return \"❌ Username is required!\"\n",
        "        if not age.isdigit() or int(age) < 18:\n",
        "            return \"❌ Age must be a number and at least 18.\"\n",
        "\n",
        "        return f\"✅ Welcome {username}, age {age}!\"\n",
        "\n",
        "    return render_template_string(form_html)\n",
        "\n",
        "if __name__ == \"__main__\":\n",
        "    app.run(debug=True)"
      ],
      "metadata": {
        "id": "sF920OLy-D2V"
      },
      "execution_count": null,
      "outputs": []
    },
    {
      "cell_type": "code",
      "source": [
        "# 8\n",
        "@app.route(\"/\")\n",
        "def index():\n",
        "    if \"username\" in session:\n",
        "        return f\"Welcome back, {session['username']}! <br><a href='/logout'>Logout</a>\"\n",
        "    return \"You are not logged in. <a href='/login'>Login here</a>\"\n",
        "\n",
        "@app.route(\"/login\", methods=[\"GET\", \"POST\"])\n",
        "def login():\n",
        "    if request.method == \"POST\":\n",
        "        session[\"username\"] = request.form[\"username\"]  # save in session\n",
        "        return redirect(url_for(\"index\"))\n",
        "    return \"\"\"\n",
        "        <form method=\"POST\">\n",
        "            <input type=\"text\" name=\"username\" placeholder=\"Enter username\">\n",
        "            <button type=\"submit\">Login</button>\n",
        "        </form>\n",
        "    \"\"\"\n",
        "\n",
        "@app.route(\"/logout\")\n",
        "def logout():\n",
        "    session.pop(\"username\", None)  # remove from session\n",
        "    return redirect(url_for(\"index\"))\n",
        "\n",
        "if __name__ == \"__main__\":\n",
        "    app.run(debug=True)"
      ],
      "metadata": {
        "id": "oWCjlWNR-nV_"
      },
      "execution_count": null,
      "outputs": []
    },
    {
      "cell_type": "code",
      "source": [
        "# 9\n",
        "app = Flask(__name__)\n",
        "\n",
        "@app.route(\"/\")\n",
        "def home():\n",
        "    return \"This is the Home Page\"\n",
        "\n",
        "@app.route(\"/about\")\n",
        "def about():\n",
        "    return \"This is the About Page\"\n",
        "\n",
        "@app.route(\"/go-to-about\")\n",
        "def go_to_about():\n",
        "    # Redirect user to the about route\n",
        "    return redirect(url_for(\"about\"))\n",
        "\n",
        "if __name__ == \"__main__\":\n",
        "    app.run(debug=True)\n"
      ],
      "metadata": {
        "id": "zc3Cs6MG_INZ"
      },
      "execution_count": null,
      "outputs": []
    },
    {
      "cell_type": "code",
      "source": [
        "# 10\n",
        "from flask import Flask, render_template\n",
        "\n",
        "app = Flask(__name__)\n",
        "\n",
        "@app.route(\"/\")\n",
        "def home():\n",
        "    return \"Home Page\"\n",
        "\n",
        "# Handle 404 (Not Found)\n",
        "@app.errorhandler(404)\n",
        "def page_not_found(error):\n",
        "    return \"<h1>404 - Page Not Found</h1>\", 404\n",
        "\n",
        "# Handle 500 (Internal Server Error)\n",
        "@app.errorhandler(500)\n",
        "def internal_error(error):\n",
        "    return \"<h1>500 - Internal Server Error</h1>\", 500\n",
        "\n",
        "if __name__ == \"__main__\":\n",
        "    app.run(debug=True)\n"
      ],
      "metadata": {
        "id": "3e7XOqMV_bZy"
      },
      "execution_count": null,
      "outputs": []
    },
    {
      "cell_type": "code",
      "source": [
        "# 11\n",
        "from flask import Blueprint, render_template, request, redirect, url_for\n",
        "\n",
        "# Create a blueprint object\n",
        "auth_bp = Blueprint(\"auth\", __name__, url_prefix=\"/auth\")\n",
        "\n",
        "@auth_bp.route(\"/login\", methods=[\"GET\", \"POST\"])\n",
        "def login():\n",
        "    if request.method == \"POST\":\n",
        "        username = request.form.get(\"username\")\n",
        "        return f\"Welcome {username}!\"\n",
        "    return render_template(\"login.html\")\n",
        "\n",
        "@auth_bp.route(\"/logout\")\n",
        "def logout():\n",
        "    return redirect(url_for(\"auth.login\"))\n"
      ],
      "metadata": {
        "id": "dvsmkozi_o3q"
      },
      "execution_count": null,
      "outputs": []
    },
    {
      "cell_type": "code",
      "source": [
        "# 12\n",
        "from flask import Flask, render_template_string\n",
        "\n",
        "app = Flask(__name__)\n",
        "\n",
        "# Define a custom filter\n",
        "def reverse_string(s):\n",
        "    return s[::-1]\n",
        "\n",
        "# Register it with Jinja\n",
        "app.jinja_env.filters[\"reverse\"] = reverse_string\n",
        "\n",
        "@app.route(\"/\")\n",
        "def index():\n",
        "    template = \"\"\"\n",
        "    <h1>Original: {{ name }}</h1>\n",
        "    <h2>Reversed: {{ name|reverse }}</h2>\n",
        "    \"\"\"\n",
        "    return render_template_string(template, name=\"Flask\")\n",
        "\n",
        "if __name__ == \"__main__\":\n",
        "    app.run(debug=True)\n"
      ],
      "metadata": {
        "id": "E5RFLW1__1-F"
      },
      "execution_count": null,
      "outputs": []
    },
    {
      "cell_type": "code",
      "source": [
        "# 13\n",
        "from flask import Flask, redirect, url_for, request\n",
        "\n",
        "app = Flask(__name__)\n",
        "\n",
        "@app.route(\"/\")\n",
        "def home():\n",
        "    return \"Home Page\"\n",
        "\n",
        "@app.route(\"/search\")\n",
        "def search():\n",
        "    query = request.args.get(\"q\")\n",
        "    page = request.args.get(\"page\", 1)\n",
        "    return f\"🔍 Searching for: {query}, Page: {page}\"\n",
        "\n",
        "@app.route(\"/go-to-search\")\n",
        "def go_to_search():\n",
        "    # Redirect to /search?q=Flask&page=2\n",
        "    return redirect(url_for(\"search\", q=\"Flask\", page=2))\n",
        "\n",
        "if __name__ == \"__main__\":\n",
        "    app.run(debug=True)\n"
      ],
      "metadata": {
        "id": "6tVNrTly_-mU"
      },
      "execution_count": null,
      "outputs": []
    },
    {
      "cell_type": "code",
      "source": [
        "# 14\n",
        "from flask import Flask, jsonify\n",
        "\n",
        "app = Flask(__name__)\n",
        "\n",
        "@app.route(\"/api/user\")\n",
        "def get_user():\n",
        "    user = {\"name\": \"Priyanshu\", \"age\": 25, \"role\": \"Developer\"}\n",
        "    return jsonify(user)\n",
        "\n",
        "if __name__ == \"__main__\":\n",
        "    app.run(debug=True)\n",
        "\n"
      ],
      "metadata": {
        "id": "C3Q1HEfEAGKg"
      },
      "execution_count": null,
      "outputs": []
    },
    {
      "cell_type": "code",
      "source": [
        "# 15\n",
        "from flask import Flask\n",
        "\n",
        "app = Flask(__name__)\n",
        "\n",
        "@app.route(\"/user/<username>\")\n",
        "def profile(username):\n",
        "    return f\"Hello, {username}!\"\n",
        "\n",
        "@app.route(\"/post/<int:post_id>\")\n",
        "def show_post(post_id):\n",
        "    return f\"This is post #{post_id}\"\n",
        "\n",
        "if __name__ == \"__main__\":\n",
        "    app.run(debug=True)\n"
      ],
      "metadata": {
        "id": "14FvHOg_AY0Z"
      },
      "execution_count": null,
      "outputs": []
    },
    {
      "cell_type": "code",
      "source": [],
      "metadata": {
        "id": "Wikz46VbBakA"
      },
      "execution_count": null,
      "outputs": []
    }
  ]
}